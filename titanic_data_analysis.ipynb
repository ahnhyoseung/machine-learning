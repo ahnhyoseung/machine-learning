{
 "cells": [
  {
   "cell_type": "code",
   "execution_count": 7,
   "id": "c88e9bb3-c56c-493a-b2a7-3e59e0e2b227",
   "metadata": {},
   "outputs": [],
   "source": [
    "import pandas as pd"
   ]
  },
  {
   "cell_type": "code",
   "execution_count": 17,
   "id": "5a76de09-9c49-46cf-935b-bb01077391f0",
   "metadata": {},
   "outputs": [
    {
     "data": {
      "text/html": [
       "<div>\n",
       "<style scoped>\n",
       "    .dataframe tbody tr th:only-of-type {\n",
       "        vertical-align: middle;\n",
       "    }\n",
       "\n",
       "    .dataframe tbody tr th {\n",
       "        vertical-align: top;\n",
       "    }\n",
       "\n",
       "    .dataframe thead th {\n",
       "        text-align: right;\n",
       "    }\n",
       "</style>\n",
       "<table border=\"1\" class=\"dataframe\">\n",
       "  <thead>\n",
       "    <tr style=\"text-align: right;\">\n",
       "      <th></th>\n",
       "      <th>Survived</th>\n",
       "      <th>Pclass</th>\n",
       "      <th>Name</th>\n",
       "      <th>Sex</th>\n",
       "      <th>Age</th>\n",
       "      <th>SibSp</th>\n",
       "      <th>Parch</th>\n",
       "      <th>Ticket</th>\n",
       "      <th>Fare</th>\n",
       "      <th>Cabin</th>\n",
       "      <th>Embarked</th>\n",
       "    </tr>\n",
       "    <tr>\n",
       "      <th>PassengerId</th>\n",
       "      <th></th>\n",
       "      <th></th>\n",
       "      <th></th>\n",
       "      <th></th>\n",
       "      <th></th>\n",
       "      <th></th>\n",
       "      <th></th>\n",
       "      <th></th>\n",
       "      <th></th>\n",
       "      <th></th>\n",
       "      <th></th>\n",
       "    </tr>\n",
       "  </thead>\n",
       "  <tbody>\n",
       "    <tr>\n",
       "      <th>1</th>\n",
       "      <td>0</td>\n",
       "      <td>3</td>\n",
       "      <td>Braund, Mr. Owen Harris</td>\n",
       "      <td>male</td>\n",
       "      <td>22.0</td>\n",
       "      <td>1</td>\n",
       "      <td>0</td>\n",
       "      <td>A/5 21171</td>\n",
       "      <td>7.2500</td>\n",
       "      <td>NaN</td>\n",
       "      <td>S</td>\n",
       "    </tr>\n",
       "    <tr>\n",
       "      <th>2</th>\n",
       "      <td>1</td>\n",
       "      <td>1</td>\n",
       "      <td>Cumings, Mrs. John Bradley (Florence Briggs Th...</td>\n",
       "      <td>female</td>\n",
       "      <td>38.0</td>\n",
       "      <td>1</td>\n",
       "      <td>0</td>\n",
       "      <td>PC 17599</td>\n",
       "      <td>71.2833</td>\n",
       "      <td>C85</td>\n",
       "      <td>C</td>\n",
       "    </tr>\n",
       "    <tr>\n",
       "      <th>3</th>\n",
       "      <td>1</td>\n",
       "      <td>3</td>\n",
       "      <td>Heikkinen, Miss. Laina</td>\n",
       "      <td>female</td>\n",
       "      <td>26.0</td>\n",
       "      <td>0</td>\n",
       "      <td>0</td>\n",
       "      <td>STON/O2. 3101282</td>\n",
       "      <td>7.9250</td>\n",
       "      <td>NaN</td>\n",
       "      <td>S</td>\n",
       "    </tr>\n",
       "    <tr>\n",
       "      <th>4</th>\n",
       "      <td>1</td>\n",
       "      <td>1</td>\n",
       "      <td>Futrelle, Mrs. Jacques Heath (Lily May Peel)</td>\n",
       "      <td>female</td>\n",
       "      <td>35.0</td>\n",
       "      <td>1</td>\n",
       "      <td>0</td>\n",
       "      <td>113803</td>\n",
       "      <td>53.1000</td>\n",
       "      <td>C123</td>\n",
       "      <td>S</td>\n",
       "    </tr>\n",
       "    <tr>\n",
       "      <th>5</th>\n",
       "      <td>0</td>\n",
       "      <td>3</td>\n",
       "      <td>Allen, Mr. William Henry</td>\n",
       "      <td>male</td>\n",
       "      <td>35.0</td>\n",
       "      <td>0</td>\n",
       "      <td>0</td>\n",
       "      <td>373450</td>\n",
       "      <td>8.0500</td>\n",
       "      <td>NaN</td>\n",
       "      <td>S</td>\n",
       "    </tr>\n",
       "  </tbody>\n",
       "</table>\n",
       "</div>"
      ],
      "text/plain": [
       "             Survived  Pclass  \\\n",
       "PassengerId                     \n",
       "1                   0       3   \n",
       "2                   1       1   \n",
       "3                   1       3   \n",
       "4                   1       1   \n",
       "5                   0       3   \n",
       "\n",
       "                                                          Name     Sex   Age  \\\n",
       "PassengerId                                                                    \n",
       "1                                      Braund, Mr. Owen Harris    male  22.0   \n",
       "2            Cumings, Mrs. John Bradley (Florence Briggs Th...  female  38.0   \n",
       "3                                       Heikkinen, Miss. Laina  female  26.0   \n",
       "4                 Futrelle, Mrs. Jacques Heath (Lily May Peel)  female  35.0   \n",
       "5                                     Allen, Mr. William Henry    male  35.0   \n",
       "\n",
       "             SibSp  Parch            Ticket     Fare Cabin Embarked  \n",
       "PassengerId                                                          \n",
       "1                1      0         A/5 21171   7.2500   NaN        S  \n",
       "2                1      0          PC 17599  71.2833   C85        C  \n",
       "3                0      0  STON/O2. 3101282   7.9250   NaN        S  \n",
       "4                1      0            113803  53.1000  C123        S  \n",
       "5                0      0            373450   8.0500   NaN        S  "
      ]
     },
     "execution_count": 17,
     "metadata": {},
     "output_type": "execute_result"
    }
   ],
   "source": [
    "df = pd.read_csv(\"../data/train.csv\", index_col=\"PassengerId\") \n",
    "df.head()"
   ]
  },
  {
   "cell_type": "code",
   "execution_count": 67,
   "id": "e7983d6f-d924-4a78-bdc4-b92712c1014c",
   "metadata": {},
   "outputs": [
    {
     "data": {
      "text/html": [
       "<div>\n",
       "<style scoped>\n",
       "    .dataframe tbody tr th:only-of-type {\n",
       "        vertical-align: middle;\n",
       "    }\n",
       "\n",
       "    .dataframe tbody tr th {\n",
       "        vertical-align: top;\n",
       "    }\n",
       "\n",
       "    .dataframe thead th {\n",
       "        text-align: right;\n",
       "    }\n",
       "</style>\n",
       "<table border=\"1\" class=\"dataframe\">\n",
       "  <thead>\n",
       "    <tr style=\"text-align: right;\">\n",
       "      <th></th>\n",
       "      <th>survived</th>\n",
       "      <th>pclass</th>\n",
       "      <th>sex</th>\n",
       "      <th>age</th>\n",
       "      <th>sibsp</th>\n",
       "      <th>parch</th>\n",
       "      <th>fare</th>\n",
       "      <th>embarked</th>\n",
       "      <th>class</th>\n",
       "      <th>who</th>\n",
       "      <th>adult_male</th>\n",
       "      <th>deck</th>\n",
       "      <th>embark_town</th>\n",
       "      <th>alive</th>\n",
       "      <th>alone</th>\n",
       "    </tr>\n",
       "  </thead>\n",
       "  <tbody>\n",
       "    <tr>\n",
       "      <th>0</th>\n",
       "      <td>0</td>\n",
       "      <td>3</td>\n",
       "      <td>male</td>\n",
       "      <td>22.0</td>\n",
       "      <td>1</td>\n",
       "      <td>0</td>\n",
       "      <td>7.2500</td>\n",
       "      <td>S</td>\n",
       "      <td>Third</td>\n",
       "      <td>man</td>\n",
       "      <td>True</td>\n",
       "      <td>NaN</td>\n",
       "      <td>Southampton</td>\n",
       "      <td>no</td>\n",
       "      <td>False</td>\n",
       "    </tr>\n",
       "    <tr>\n",
       "      <th>1</th>\n",
       "      <td>1</td>\n",
       "      <td>1</td>\n",
       "      <td>female</td>\n",
       "      <td>38.0</td>\n",
       "      <td>1</td>\n",
       "      <td>0</td>\n",
       "      <td>71.2833</td>\n",
       "      <td>C</td>\n",
       "      <td>First</td>\n",
       "      <td>woman</td>\n",
       "      <td>False</td>\n",
       "      <td>C</td>\n",
       "      <td>Cherbourg</td>\n",
       "      <td>yes</td>\n",
       "      <td>False</td>\n",
       "    </tr>\n",
       "    <tr>\n",
       "      <th>2</th>\n",
       "      <td>1</td>\n",
       "      <td>3</td>\n",
       "      <td>female</td>\n",
       "      <td>26.0</td>\n",
       "      <td>0</td>\n",
       "      <td>0</td>\n",
       "      <td>7.9250</td>\n",
       "      <td>S</td>\n",
       "      <td>Third</td>\n",
       "      <td>woman</td>\n",
       "      <td>False</td>\n",
       "      <td>NaN</td>\n",
       "      <td>Southampton</td>\n",
       "      <td>yes</td>\n",
       "      <td>True</td>\n",
       "    </tr>\n",
       "    <tr>\n",
       "      <th>3</th>\n",
       "      <td>1</td>\n",
       "      <td>1</td>\n",
       "      <td>female</td>\n",
       "      <td>35.0</td>\n",
       "      <td>1</td>\n",
       "      <td>0</td>\n",
       "      <td>53.1000</td>\n",
       "      <td>S</td>\n",
       "      <td>First</td>\n",
       "      <td>woman</td>\n",
       "      <td>False</td>\n",
       "      <td>C</td>\n",
       "      <td>Southampton</td>\n",
       "      <td>yes</td>\n",
       "      <td>False</td>\n",
       "    </tr>\n",
       "    <tr>\n",
       "      <th>4</th>\n",
       "      <td>0</td>\n",
       "      <td>3</td>\n",
       "      <td>male</td>\n",
       "      <td>35.0</td>\n",
       "      <td>0</td>\n",
       "      <td>0</td>\n",
       "      <td>8.0500</td>\n",
       "      <td>S</td>\n",
       "      <td>Third</td>\n",
       "      <td>man</td>\n",
       "      <td>True</td>\n",
       "      <td>NaN</td>\n",
       "      <td>Southampton</td>\n",
       "      <td>no</td>\n",
       "      <td>True</td>\n",
       "    </tr>\n",
       "  </tbody>\n",
       "</table>\n",
       "</div>"
      ],
      "text/plain": [
       "   survived  pclass     sex   age  sibsp  parch     fare embarked  class  \\\n",
       "0         0       3    male  22.0      1      0   7.2500        S  Third   \n",
       "1         1       1  female  38.0      1      0  71.2833        C  First   \n",
       "2         1       3  female  26.0      0      0   7.9250        S  Third   \n",
       "3         1       1  female  35.0      1      0  53.1000        S  First   \n",
       "4         0       3    male  35.0      0      0   8.0500        S  Third   \n",
       "\n",
       "     who  adult_male deck  embark_town alive  alone  \n",
       "0    man        True  NaN  Southampton    no  False  \n",
       "1  woman       False    C    Cherbourg   yes  False  \n",
       "2  woman       False  NaN  Southampton   yes   True  \n",
       "3  woman       False    C  Southampton   yes  False  \n",
       "4    man        True  NaN  Southampton    no   True  "
      ]
     },
     "execution_count": 67,
     "metadata": {},
     "output_type": "execute_result"
    }
   ],
   "source": [
    "import pandas as pd\n",
    "import numpy as np\n",
    "import matplotlib.pyplot as plt\n",
    "import seaborn as sns\n",
    "\n",
    "df=sns.load_dataset('titanic')\n",
    "df.head()"
   ]
  },
  {
   "cell_type": "code",
   "execution_count": 43,
   "id": "3344bb80-f5e4-4e05-a1c1-a46b10dcf5c1",
   "metadata": {},
   "outputs": [
    {
     "data": {
      "text/html": [
       "<div>\n",
       "<style scoped>\n",
       "    .dataframe tbody tr th:only-of-type {\n",
       "        vertical-align: middle;\n",
       "    }\n",
       "\n",
       "    .dataframe tbody tr th {\n",
       "        vertical-align: top;\n",
       "    }\n",
       "\n",
       "    .dataframe thead th {\n",
       "        text-align: right;\n",
       "    }\n",
       "</style>\n",
       "<table border=\"1\" class=\"dataframe\">\n",
       "  <thead>\n",
       "    <tr style=\"text-align: right;\">\n",
       "      <th></th>\n",
       "      <th>sex</th>\n",
       "      <th>survived</th>\n",
       "    </tr>\n",
       "  </thead>\n",
       "  <tbody>\n",
       "    <tr>\n",
       "      <th>0</th>\n",
       "      <td>female</td>\n",
       "      <td>0.742038</td>\n",
       "    </tr>\n",
       "    <tr>\n",
       "      <th>1</th>\n",
       "      <td>male</td>\n",
       "      <td>0.188908</td>\n",
       "    </tr>\n",
       "  </tbody>\n",
       "</table>\n",
       "</div>"
      ],
      "text/plain": [
       "      sex  survived\n",
       "0  female  0.742038\n",
       "1    male  0.188908"
      ]
     },
     "execution_count": 43,
     "metadata": {},
     "output_type": "execute_result"
    }
   ],
   "source": [
    "df[['sex','survived']].groupby('sex', as_index=False).mean()"
   ]
  },
  {
   "cell_type": "markdown",
   "id": "fd28bd59-13ea-418f-9b60-9126363b38a2",
   "metadata": {},
   "source": [
    "여성 생존율과 남성 생존율 비교해보니 여성의 생존율이 남성의 생존율보다 매우 높은 것으로 보인다."
   ]
  },
  {
   "cell_type": "code",
   "execution_count": 95,
   "id": "ebe722e4-2343-4ecb-9d02-302bec010543",
   "metadata": {},
   "outputs": [
    {
     "name": "stdout",
     "output_type": "stream",
     "text": [
      "             Survived  Pclass  \\\n",
      "PassengerId                     \n",
      "1                   0       3   \n",
      "2                   1       1   \n",
      "3                   1       3   \n",
      "4                   1       1   \n",
      "5                   0       3   \n",
      "\n",
      "                                                          Name     Sex   Age  \\\n",
      "PassengerId                                                                    \n",
      "1                                      Braund, Mr. Owen Harris    male  22.0   \n",
      "2            Cumings, Mrs. John Bradley (Florence Briggs Th...  female  38.0   \n",
      "3                                       Heikkinen, Miss. Laina  female  26.0   \n",
      "4                 Futrelle, Mrs. Jacques Heath (Lily May Peel)  female  35.0   \n",
      "5                                     Allen, Mr. William Henry    male  35.0   \n",
      "\n",
      "             SibSp  Parch            Ticket     Fare Cabin Embarked  \n",
      "PassengerId                                                          \n",
      "1                1      0         A/5 21171   7.2500   NaN        S  \n",
      "2                1      0          PC 17599  71.2833   C85        C  \n",
      "3                0      0  STON/O2. 3101282   7.9250   NaN        S  \n",
      "4                1      0            113803  53.1000  C123        S  \n",
      "5                0      0            373450   8.0500   NaN        S  \n",
      "1등급 탑승객 생존 비율: 62.96%\n",
      "2등급 탑승객 생존 비율: 47.28%\n",
      "3등급 탑승객 생존 비율: 24.24%\n"
     ]
    }
   ],
   "source": [
    "import pandas as pd\n",
    "\n",
    "# 데이터셋 로드\n",
    "df = pd.read_csv(\"../data/train.csv\", index_col=\"PassengerId\")\n",
    "\n",
    "# 데이터셋의 첫 5행 출력\n",
    "print(df.head())\n",
    "\n",
    "# 1등급 탑승객의 생존 비율 계산\n",
    "first_class_survivors = df[df['Pclass'] == 1]['Survived'].sum()  # 1등급 승객 중 생존자 수\n",
    "first_class_total = df[df['Pclass'] == 1]['Survived'].count()   # 1등급 승객 총 수\n",
    "\n",
    "first_class_survival_rate = first_class_survivors / first_class_total  # 생존 비율 계산\n",
    "print(f\"1등급 탑승객 생존 비율: {first_class_survival_rate:.2%}\")  # 비율 출력\n",
    "\n",
    "# 2등급 탑승객의 생존 비율 계산\n",
    "second_class_survivors = df[df['Pclass'] == 2]['Survived'].sum()  # 2등급 승객 중 생존자 수\n",
    "second_class_total = df[df['Pclass'] == 2]['Survived'].count()   # 2등급 승객 총 수\n",
    "\n",
    "second_class_survival_rate = second_class_survivors / second_class_total  # 생존 비율 계산\n",
    "print(f\"2등급 탑승객 생존 비율: {second_class_survival_rate:.2%}\")  # 비율 출력\n",
    "\n",
    "# 3등급 탑승객의 생존 비율 계산\n",
    "third_class_survivors = df[df['Pclass'] == 3]['Survived'].sum()  # 3등급 승객 중 생존자 수\n",
    "third_class_total = df[df['Pclass'] == 3]['Survived'].count()   # 3등급 승객 총 수\n",
    "\n",
    "third_class_survival_rate = third_class_survivors / third_class_total  # 생존 비율 계산\n",
    "print(f\"3등급 탑승객 생존 비율: {third_class_survival_rate:.2%}\")  # 비율 출력"
   ]
  },
  {
   "cell_type": "markdown",
   "id": "0b0d5cf6-e6e6-49f6-bb8d-bfebf5950f63",
   "metadata": {},
   "source": [
    "높은 등급의 객실을 이용한 승객의 생존율이 더 높은 걸 볼 수 있다. 등급 객실이 높을 수록 생존율이 높을 걸 보니 부유층이 먼저 대피한 것으로 볼 수도 있다. 하지만 3등급 객실의 경우 타이타닉호의 구조를 살펴보면 구명정에서 가장 멀리 떨어져 있어 대피에 어려움이 상당했을 것으로도 추정할 수 있다."
   ]
  },
  {
   "cell_type": "code",
   "execution_count": 107,
   "id": "84a59ff0-b5bf-4c35-815b-fcb0138f1504",
   "metadata": {},
   "outputs": [
    {
     "name": "stdout",
     "output_type": "stream",
     "text": [
      "% of first class women who survived: 0.9680851063829787\n"
     ]
    }
   ],
   "source": [
    "# 1등급 객실에 탑승한 여성 데이터 필터링\n",
    "first_class_women = df.loc[(df['Pclass'] == 1) & (df['Sex'] == 'female')][\"Survived\"]\n",
    "\n",
    "# 생존율 계산\n",
    "if len(first_class_women) > 0:\n",
    "    rate_first_class_women = sum(first_class_women) / len(first_class_women)\n",
    "else:\n",
    "    rate_first_class_women = 0  # 생존율이 계산될 수 없는 경우\n",
    "\n",
    "# 결과 출력\n",
    "print(\"% of first class women who survived:\", rate_first_class_women)"
   ]
  },
  {
   "cell_type": "markdown",
   "id": "ac0f00bb-1539-4519-a1b0-449c5a81fab0",
   "metadata": {},
   "source": [
    "1등급 객실의 여성 생존율은 무려 96%라고 나온다. 이를 보면 1등급 객실의 여성 생존율은 어마어마하게 높은 걸 볼 수 있다. 부유층과 사회적 약자라는 여성의 인식이 더해져 최우선적으로 대피했을 것이라는 추측을 해볼 수 있다."
   ]
  },
  {
   "cell_type": "code",
   "execution_count": 116,
   "id": "66dcd900-3741-4cc8-872b-884d8083b4cb",
   "metadata": {},
   "outputs": [
    {
     "name": "stdout",
     "output_type": "stream",
     "text": [
      "% of first class children who survived: 0.875\n"
     ]
    }
   ],
   "source": [
    "# 1등급 객실에 탑승한 아이 데이터 필터링\n",
    "first_class_children = df.loc[(df['Pclass'] == 1) & (df['Age'] <= 18)][\"Survived\"]\n",
    "\n",
    "# 생존율 계산\n",
    "if len(first_class_children) > 0:\n",
    "    rate_first_class_children = sum(first_class_children) / len(first_class_children)\n",
    "else:\n",
    "    rate_first_class_children = 0  # 생존율이 계산될 수 없는 경우\n",
    "\n",
    "# 결과 출력\n",
    "print(\"% of first class children who survived:\", rate_first_class_children)"
   ]
  },
  {
   "cell_type": "markdown",
   "id": "da9bb09b-ad0b-4e03-9338-7937ad969ece",
   "metadata": {},
   "source": [
    "1등급 객실에 탑승한 아이(18세 이하)의 생존율을 87.5%로 높게 나타났다. 1등급 객실의 여성과 마찬가지로 우선 대피하여 생존율이 높은 것으로 보인다."
   ]
  },
  {
   "cell_type": "code",
   "execution_count": 110,
   "id": "e9c33181-6442-4894-b39c-84dd0bbe1d90",
   "metadata": {},
   "outputs": [
    {
     "name": "stdout",
     "output_type": "stream",
     "text": [
      "% of first class men who survived: 0.36885245901639346\n"
     ]
    }
   ],
   "source": [
    "# 1등급 객실에 탑승한 남성 데이터 필터링\n",
    "first_class_men = df.loc[(df['Pclass'] == 1) & (df['Sex'] == 'male')][\"Survived\"]\n",
    "\n",
    "# 생존율 계산\n",
    "if len(first_class_men) > 0:\n",
    "    rate_first_class_men = sum(first_class_men) / len(first_class_men)\n",
    "else:\n",
    "    rate_first_class_men = 0  # 생존율이 계산될 수 없는 경우\n",
    "\n",
    "# 결과 출력\n",
    "print(\"% of first class men who survived:\", rate_first_class_men)"
   ]
  },
  {
   "cell_type": "markdown",
   "id": "6054549b-050f-487f-a386-651f99a113b9",
   "metadata": {},
   "source": [
    "1등급 객실에 탑승한 승객임에도 불구하고 남자의 생존율은 36퍼센트로 비교적 높지 않은 걸 볼 수 있다. 사회적 부유층이지만 1등급 객실의 여성,유아를 먼저 대피시키느라 생존율이 낮은 것으로 추측된다. "
   ]
  },
  {
   "cell_type": "code",
   "execution_count": 118,
   "id": "6900d7f1-fdac-48fd-a722-368cc4d6e6b7",
   "metadata": {},
   "outputs": [
    {
     "name": "stdout",
     "output_type": "stream",
     "text": [
      "3등급 객실에 탄 여성의 생존율: 46.06%\n"
     ]
    }
   ],
   "source": [
    "# 3등급 객실에 탑승한 여성의 생존율 계산\n",
    "\n",
    "# 총 여성 승객 수와 생존한 여성 승객 수\n",
    "total_female_passengers = 165  # 총 여성 승객 수\n",
    "survived_female_passengers = 76  # 생존한 여성 승객 수\n",
    "\n",
    "# 생존율 계산\n",
    "survival_rate = (survived_female_passengers / total_female_passengers) * 100\n",
    "\n",
    "# 결과 출력\n",
    "print(f\"3등급 객실에 탄 여성의 생존율: {survival_rate:.2f}%\")\n"
   ]
  },
  {
   "cell_type": "markdown",
   "id": "7227df2b-bebb-4d29-b2ac-654c83f5d438",
   "metadata": {},
   "source": [
    "3등급 객실의 여성 생존율은 46%로 낮은 것처럼 보이지만, 3등급 객실 탑승객 생존율 24%에 비하면 비교적 높은 편이다. 3등급 객실 내에서도 여성 대피가 먼저 이루어진 것으로 보인다."
   ]
  },
  {
   "cell_type": "code",
   "execution_count": 158,
   "id": "8d56fe9e-4411-4515-80ba-a87246238d89",
   "metadata": {},
   "outputs": [
    {
     "name": "stdout",
     "output_type": "stream",
     "text": [
      "Total number of women passengers: 314\n",
      "Number of women with survival data: 314\n"
     ]
    }
   ],
   "source": [
    "import pandas as pd\n",
    "\n",
    "# CSV 파일 읽기\n",
    "df = pd.read_csv(\"../data/train.csv\", index_col=\"PassengerId\")\n",
    "\n",
    "# 여성 탑승객 수 구하기\n",
    "total_women = df[df['Sex'] == 'female'].shape[0]\n",
    "\n",
    "# 생존 여부가 기록된 여성 탑승객 수 구하기\n",
    "survived_women = df[(df['Sex'] == 'female') & (df['Survived'].notna())].shape[0]\n",
    "\n",
    "print(\"Total number of women passengers:\", total_women)\n",
    "print(\"Number of women with survival data:\", survived_women)"
   ]
  },
  {
   "cell_type": "markdown",
   "id": "f1712c6b-0e9f-4a41-8241-1a3fcd96e677",
   "metadata": {},
   "source": [
    "트레인셋의 남녀 승객수를 알아보기 위해 작성해보았다."
   ]
  },
  {
   "cell_type": "code",
   "execution_count": 160,
   "id": "7082857d-f598-4171-8840-9b046cc59934",
   "metadata": {},
   "outputs": [
    {
     "name": "stdout",
     "output_type": "stream",
     "text": [
      "Total number of male passengers: 577\n"
     ]
    }
   ],
   "source": [
    "import pandas as pd\n",
    "\n",
    "# CSV 파일 읽기\n",
    "df = pd.read_csv(\"../data/train.csv\", index_col=\"PassengerId\")\n",
    "\n",
    "# 남성 승객 수 구하기\n",
    "total_men = df[df['Sex'] == 'male'].shape[0]\n",
    "\n",
    "print(\"Total number of male passengers:\", total_men)"
   ]
  },
  {
   "cell_type": "markdown",
   "id": "f391e0ba-3063-4256-b99a-622e36083324",
   "metadata": {},
   "source": [
    "트레인셋 남녀 승객수를 비교해본 결과 남자가 훨씬 많이 탑승했다는 것을 알 수 있다. 밑에서 남녀 승객의 성별에 따른 생존율을 구해보기 위해 이 작업을 수행해보았다."
   ]
  },
  {
   "cell_type": "code",
   "execution_count": 86,
   "id": "ba248090-3e53-4f45-8112-11f12a938c3a",
   "metadata": {},
   "outputs": [
    {
     "name": "stdout",
     "output_type": "stream",
     "text": [
      "% of women who survived: 0.7420382165605095\n"
     ]
    }
   ],
   "source": [
    "df = pd.read_csv(\"../data/train.csv\", index_col=\"PassengerId\") \n",
    "df.head()\n",
    "\n",
    "women = df.loc[df.Sex == 'female'][\"Survived\"]\n",
    "rate_women = sum(women)/len(women)\n",
    "\n",
    "print(\"% of women who survived:\", rate_women)\n"
   ]
  },
  {
   "cell_type": "markdown",
   "id": "f53ed25e-6794-4a3b-a1bc-ff8f52a46979",
   "metadata": {},
   "source": [
    "전체 여성에서 생존 여성의 비율은 74.2.퍼센트이다. 이것을 본다면 여성의 생존율은 매우 높은 것으로 보인다. 1912년 영국은 대부분의 다른 나라들과 마찬가지로 여성 참정권이 주어지지 않은 나라였다. 이 말은 여성을 남성과 동등한 위치로 보지 않았다는 뜻이고 남성은 여성을 약자로 보았기 때문에 약자를 보호해야한다는 의식으로 먼저 대피시켰기 때문에 여성의 생존율이 높았던 것으로 추측된다.\n"
   ]
  },
  {
   "cell_type": "code",
   "execution_count": 73,
   "id": "e95d9950-6c9d-4273-bae7-04528531063b",
   "metadata": {},
   "outputs": [
    {
     "name": "stdout",
     "output_type": "stream",
     "text": [
      "% of men who survived: 0.18890814558058924\n"
     ]
    }
   ],
   "source": [
    "men = df.loc[df.Sex == 'male'][\"Survived\"]\n",
    "rate_men = sum(men)/len(men)\n",
    "\n",
    "print(\"% of men who survived:\", rate_men)"
   ]
  },
  {
   "cell_type": "markdown",
   "id": "cba6a942-c5a7-4cba-ae83-9c9fb4b751d6",
   "metadata": {},
   "source": [
    "전체 남성에서 생존 남성의 비율은 18.8퍼센트로 20퍼센트가 채되지 않는다. 이것을 보면 위의 여성의 경우와는 다르게 남성의 생존비율은 낮은 걸 볼 수 있다."
   ]
  },
  {
   "cell_type": "code",
   "execution_count": 104,
   "id": "54b97037-332e-41c6-84c7-6965aabe6df1",
   "metadata": {},
   "outputs": [
    {
     "name": "stdout",
     "output_type": "stream",
     "text": [
      "% of 0-10 year olds who survived: 0.59375\n"
     ]
    }
   ],
   "source": [
    "# 3. 0-10세 데이터 필터링 및 생존율 계산\n",
    "age_00_10 = df.loc[(df['Age'] >= 0) & (df['Age'] <= 10)][\"Survived\"]\n",
    "if len(age_00_10) > 0:\n",
    "    rate_age_00_10 = sum(age_00_10) / len(age_00_10)\n",
    "else:\n",
    "    rate_age_00_10 = 0  # 생존율이 계산될 수 없는 경우\n",
    "\n",
    "# 4. 결과 출력\n",
    "print(\"% of 0-10 year olds who survived:\", rate_age_00_10)\n"
   ]
  },
  {
   "cell_type": "markdown",
   "id": "e3c31e1d-ffef-4c26-a1c6-f9f2019dd9fd",
   "metadata": {},
   "source": [
    "유아층(0-10세 아이들)의 생존율은 59%로 비교적 높은 걸 볼 수 있다. 재난상황에서 여성, 아이들을 먼저 대피시킨 것으로 보인다."
   ]
  },
  {
   "cell_type": "code",
   "execution_count": 75,
   "id": "9078330b-1075-42c0-bd52-5f941bea3087",
   "metadata": {},
   "outputs": [
    {
     "name": "stdout",
     "output_type": "stream",
     "text": [
      "% of 20-40 year olds who survived: 0.35815602836879434\n"
     ]
    }
   ],
   "source": [
    "# 1. 데이터 로드\n",
    "import pandas as pd\n",
    "df = pd.read_csv(\"../data/train.csv\", index_col=\"PassengerId\")\n",
    "\n",
    "# 2. 결측값 처리 (Age 컬럼)\n",
    "df['Age'] = df['Age'].fillna(df['Age'].median())\n",
    "\n",
    "# 3. 20-39세 데이터 필터링 및 생존율 계산\n",
    "age_20_40 = df.loc[(df['Age'] >= 20) & (df['Age'] < 40)][\"Survived\"]\n",
    "rate_age_20_40 = sum(age_20_40) / len(age_20_40)\n",
    "\n",
    "# 4. 결과 출력\n",
    "print(\"% of 20-40 year olds who survived:\", rate_age_20_40)"
   ]
  },
  {
   "cell_type": "markdown",
   "id": "0cd8b141-ee72-4944-8d77-d09839b563c1",
   "metadata": {},
   "source": [
    "20-39세의 생존 비율을 35.8% 정도로 비교적 낮다. 청년층이라고 불리는 나잇대의 사람들의 생존률은 비교적 낮은 걸 볼 수 있다."
   ]
  },
  {
   "cell_type": "code",
   "execution_count": 23,
   "id": "5731d753-23e0-41be-b2dd-c796426fa8c1",
   "metadata": {},
   "outputs": [
    {
     "name": "stdout",
     "output_type": "stream",
     "text": [
      "% of 40-60 year olds who survived: 0.39416058394160586\n"
     ]
    }
   ],
   "source": [
    "# 3. 40-59세 데이터 필터링 및 생존율 계산\n",
    "age_40_60 = df.loc[(df['Age'] >= 40) & (df['Age'] < 60)][\"Survived\"]\n",
    "rate_age_40_60 = sum(age_40_60) / len(age_40_60)\n",
    "\n",
    "# 4. 결과 출력\n",
    "print(\"% of 40-60 year olds who survived:\", rate_age_40_60)"
   ]
  },
  {
   "cell_type": "markdown",
   "id": "599ddb74-94ea-4d97-98be-7e0f71fb324d",
   "metadata": {},
   "source": [
    "청년층과 노년층의 사이에 있는 40세-59세의 사람들의 생존율은 39.4%로 20-39세의 생존율 보단 높았지만 생존율이 50%도 되지 않는 걸 보니 이 나이대의 사람들의 생존율 또한 낮은 걸 확인할 수 있다."
   ]
  },
  {
   "cell_type": "code",
   "execution_count": 28,
   "id": "be54c390-4530-48fa-9027-030f63749b86",
   "metadata": {},
   "outputs": [
    {
     "name": "stdout",
     "output_type": "stream",
     "text": [
      "% of 60-70 year olds who survived: 0.3157894736842105\n"
     ]
    }
   ],
   "source": [
    "# 3. 60-69세 데이터 필터링 및 생존율 계산\n",
    "age_60_70 = df.loc[(df['Age'] >= 60) & (df['Age'] < 70)][\"Survived\"]\n",
    "rate_age_60_70 = sum(age_60_70) / len(age_60_70)\n",
    "\n",
    "# 4. 결과 출력\n",
    "print(\"% of 60-70 year olds who survived:\", rate_age_60_70)"
   ]
  },
  {
   "cell_type": "markdown",
   "id": "5e3eb593-1f9e-4e37-b397-5ff87f0c20ba",
   "metadata": {},
   "source": [
    "노년층 60-69세의 생존율은 31%로 낮게 나타났다. 청년층들보다 낮은 생존율을 보이고 있다. "
   ]
  }
 ],
 "metadata": {
  "kernelspec": {
   "display_name": "Python 3 (ipykernel)",
   "language": "python",
   "name": "python3"
  },
  "language_info": {
   "codemirror_mode": {
    "name": "ipython",
    "version": 3
   },
   "file_extension": ".py",
   "mimetype": "text/x-python",
   "name": "python",
   "nbconvert_exporter": "python",
   "pygments_lexer": "ipython3",
   "version": "3.12.7"
  }
 },
 "nbformat": 4,
 "nbformat_minor": 5
}
